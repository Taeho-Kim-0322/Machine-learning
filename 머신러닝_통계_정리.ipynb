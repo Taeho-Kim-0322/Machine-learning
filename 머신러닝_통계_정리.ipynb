{
  "nbformat": 4,
  "nbformat_minor": 0,
  "metadata": {
    "colab": {
      "name": "머신러닝 통계 정리.ipynb",
      "provenance": [],
      "collapsed_sections": [],
      "authorship_tag": "ABX9TyORNija4coYyexdrHzDSm+F",
      "include_colab_link": true
    },
    "kernelspec": {
      "name": "python3",
      "display_name": "Python 3"
    }
  },
  "cells": [
    {
      "cell_type": "markdown",
      "metadata": {
        "id": "view-in-github",
        "colab_type": "text"
      },
      "source": [
        "<a href=\"https://colab.research.google.com/github/Taeho-Kim-0322/Machine-learning/blob/master/%EB%A8%B8%EC%8B%A0%EB%9F%AC%EB%8B%9D_%ED%86%B5%EA%B3%84_%EC%A0%95%EB%A6%AC.ipynb\" target=\"_parent\"><img src=\"https://colab.research.google.com/assets/colab-badge.svg\" alt=\"Open In Colab\"/></a>"
      ]
    },
    {
      "cell_type": "markdown",
      "metadata": {
        "id": "gWZjpId6lKgC"
      },
      "source": [
        ""
      ]
    },
    {
      "cell_type": "markdown",
      "metadata": {
        "id": "2bVkbKhulKdp"
      },
      "source": [
        ""
      ]
    },
    {
      "cell_type": "markdown",
      "metadata": {
        "id": "Tgz9Xd5ulKbd"
      },
      "source": [
        ""
      ]
    },
    {
      "cell_type": "markdown",
      "metadata": {
        "id": "IkDD2LrnlKZM"
      },
      "source": [
        "#6. Lasso, Ridge, PCR이해하기\n",
        "\n",
        "## "
      ]
    },
    {
      "cell_type": "markdown",
      "metadata": {
        "id": "HdvrVWkClKWs"
      },
      "source": [
        "(기억 상기)\n",
        "Bias : f 모델을 설정함으로써 필연적으로 생길 수 밖에 없는 오차 (e.g. 선형식을 선택함으로써 생기는 오류)\n",
        "Variance : Training Data가 변경될 때마가 추정한 f가 변동되는 오차 (e.g. 데이터가 변경됨에 따라 회귀계수의 변동) ▶ 데이터 의존도\n",
        "\n",
        "- Bias ↔ Variance Trade-off\n",
        "\n",
        "- flexible하다 = overfitting되었다\n",
        "  - overfitting 방지를 위해 Generalization, Early Stopping 등등\n",
        "  - [Generalization]\n",
        "    - L1 norm(계단거리) : Lasso\n",
        "    - L2 norm(직선거리) : Ridge\n",
        "    - 계수들을 '0'으로 보내는 상수항을 추가하여 Shrinkage 효과를 넣음\n",
        "    - Bias를 조금 올리는 대신 Variance를 크게 감소시켜 overfitting을 막음\n",
        "    - 데이터 n보다 변수 p가 월등히 많을 때, p>n일 때 효과적임\n",
        "    - Lasso ↔ Ridge\n"
      ]
    },
    {
      "cell_type": "markdown",
      "metadata": {
        "id": "cj-rpOIdlKUi"
      },
      "source": [
        ""
      ]
    },
    {
      "cell_type": "markdown",
      "metadata": {
        "id": "2k8hetsrlKSO"
      },
      "source": [
        ""
      ]
    },
    {
      "cell_type": "markdown",
      "metadata": {
        "id": "TuwTljdZlKQc"
      },
      "source": [
        ""
      ]
    },
    {
      "cell_type": "markdown",
      "metadata": {
        "id": "BuL75o_6lKOL"
      },
      "source": [
        ""
      ]
    },
    {
      "cell_type": "markdown",
      "metadata": {
        "id": "of7UZc1KlKL1"
      },
      "source": [
        ""
      ]
    },
    {
      "cell_type": "markdown",
      "metadata": {
        "id": "D1D0oYvclKJb"
      },
      "source": [
        ""
      ]
    },
    {
      "cell_type": "markdown",
      "metadata": {
        "id": "va9Pl9LElKG0"
      },
      "source": [
        ""
      ]
    },
    {
      "cell_type": "markdown",
      "metadata": {
        "id": "_Oot3axQlKEu"
      },
      "source": [
        ""
      ]
    },
    {
      "cell_type": "markdown",
      "metadata": {
        "id": "amo60l7XlKCc"
      },
      "source": [
        ""
      ]
    },
    {
      "cell_type": "markdown",
      "metadata": {
        "id": "7NsWs6jilKAa"
      },
      "source": [
        ""
      ]
    },
    {
      "cell_type": "markdown",
      "metadata": {
        "id": "bKt_IQZzlJ-C"
      },
      "source": [
        ""
      ]
    },
    {
      "cell_type": "markdown",
      "metadata": {
        "id": "R8CcLIF2lJ7w"
      },
      "source": [
        ""
      ]
    },
    {
      "cell_type": "markdown",
      "metadata": {
        "id": "7DIJLoBBlJ5g"
      },
      "source": [
        ""
      ]
    },
    {
      "cell_type": "markdown",
      "metadata": {
        "id": "l1ReXPGLlJ3R"
      },
      "source": [
        ""
      ]
    },
    {
      "cell_type": "markdown",
      "metadata": {
        "id": "rXKBFBL7lJ03"
      },
      "source": [
        ""
      ]
    },
    {
      "cell_type": "markdown",
      "metadata": {
        "id": "0r0pW98olJyo"
      },
      "source": [
        ""
      ]
    },
    {
      "cell_type": "markdown",
      "metadata": {
        "id": "zh7ItpP-lJvy"
      },
      "source": [
        ""
      ]
    },
    {
      "cell_type": "markdown",
      "metadata": {
        "id": "Z6iNUi96lJtc"
      },
      "source": [
        ""
      ]
    },
    {
      "cell_type": "markdown",
      "metadata": {
        "id": "infViNaGlJrX"
      },
      "source": [
        ""
      ]
    },
    {
      "cell_type": "markdown",
      "metadata": {
        "id": "w6zwpbA8lJmN"
      },
      "source": [
        ""
      ]
    },
    {
      "cell_type": "code",
      "metadata": {
        "id": "114kqXf0lGhr"
      },
      "source": [
        ""
      ],
      "execution_count": null,
      "outputs": []
    }
  ]
}