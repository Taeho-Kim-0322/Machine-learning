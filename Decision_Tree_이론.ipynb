{
  "nbformat": 4,
  "nbformat_minor": 0,
  "metadata": {
    "colab": {
      "name": "Decision Tree 이론.ipynb",
      "provenance": [],
      "collapsed_sections": [],
      "authorship_tag": "ABX9TyPSy2Nk3f66Reo6FyzI2gKW",
      "include_colab_link": true
    },
    "kernelspec": {
      "name": "python3",
      "display_name": "Python 3"
    }
  },
  "cells": [
    {
      "cell_type": "markdown",
      "metadata": {
        "id": "view-in-github",
        "colab_type": "text"
      },
      "source": [
        "<a href=\"https://colab.research.google.com/github/Taeho-Kim-0322/Machine-learning/blob/master/Decision_Tree_%EC%9D%B4%EB%A1%A0.ipynb\" target=\"_parent\"><img src=\"https://colab.research.google.com/assets/colab-badge.svg\" alt=\"Open In Colab\"/></a>"
      ]
    },
    {
      "cell_type": "markdown",
      "metadata": {
        "id": "gJeeTm4BR71z"
      },
      "source": [
        "#의사결정나무\n",
        " : 목표변수에 대한 의사결정 규칙(rule)들을 나무구조로 그래프화하여 분류와 예측을 수행하는 기법으로서, 각종 데이터로부터 규칙을 도출하는데 매우 유용하게 활용되고 있음\n",
        "\n",
        "## 의사결정나무 분석 단계\n",
        " - ㉠ : 의사결정나무 형성\n",
        " - ㉡ : 가지치기\n",
        " - ㉢ : 타당성 평가\n",
        " - ㉣ : 해석 및 예측\n",
        "\n",
        " ## 장점\n",
        "  - 주요 변수의 선정이 용이함\n",
        "  - 교호효과의 해석이 가능함\n",
        "  - 비모수적 모형으로 선형성, 정규성, 등분산성 등의 가정이 필요 없다\n",
        "  - 해석의 용이성\n",
        "  - 지식의 추출\n",
        "\n",
        " ## 단점\n",
        "  - 비연속성 : 연속형 변수를 비연속적인 값으로 취급하기 때문에 분리의 경계점 근방에서 예측 오류가 클 가능성이 있음\n",
        "  - 선형성 또는 주 효과의 결여\n",
        "  - 비안정성 : 분석용 자료에만 의존하여 새로운 자료의 예측에서 불안정할 가능성이 높음\n",
        "\n",
        "## 분리 기준 및 가지치기\n",
        " - 목표변수를 가장 잘 구별해 주는지를 파악하여 자식 마디가 형성되는데, 순수도 또는 불순도에 의해 측정됨\n",
        " - 목표변수가 이산형이냐, 연속형이냐에 따라 각각 분리 기준을 달리함\n",
        "\n",
        " ## 이산형 목표변수\n",
        "  - ㉠ : 카이제곱 통계량의 유의확률\n",
        "   - ((실제도수-기대도수)의 제곱 / 기대도수) 의 합\n",
        "  - ㉡ : 지니지수\n",
        "  - ㉢ : 엔트로피지수\n",
        "\n",
        " ## 연속형 목표변수\n",
        "  - ㉠ : 분산분석에서의 F-통계량의 유의 확률\n",
        "  - ㉡ : 분산의 감소량\n",
        "\n",
        "## 정지 규칙과 가지치기\n",
        " - 정지 규칙 : 더 이상 분리가 일어나지 않는 규칙. 마디에 속하는 자료의 수가 일정 수 이하, 불순도의 감소량이 아주 작을 때, 뿌리 마디로부터의 깊이가 일정 수 이상일 때 등\n",
        " - 가지치기 규칙(pruning) : 성장이 끝난 나무의 가지를 적당히 제거하여 적당한 크기를 갖는 나무 모형을 최종적인 예측 모형으로 선택하는 것\n"
      ]
    },
    {
      "cell_type": "markdown",
      "metadata": {
        "id": "5skyhhHkUG6t"
      },
      "source": [
        "## -----------------------------------------------------------------------\n",
        "## 의사결정나무 알고리즘\n",
        " - 대표적인 알고리즘으로는 CHAID(Kass, 1980), CART(Breiman 외, 1984), C4.5(Quinlan, 1993) 등이 있음\n",
        "\n",
        " ## CART(Classification and Regression Trees)\n",
        "  - **지니지수(이산형 목표변수인 경우 적용)**\n",
        "  - **분산의 감소량(연속형 목표변수인 경우 적용)**\n",
        "  - **이지분리를 수행하는 알고리즘**\n",
        "  - CART, QUEST 알고리즘은 표준오차와 취소위험을 통해 가지치기 기준을 사전에 지정할 수 있음\n",
        "   - ㉠ 표준요차\n",
        "   - ㉡ 최소위험\n",
        "\n",
        " ## CHAID(CHi-squared Automatic Interation Detection)\n",
        "  - 자동교호감지 시스템 AID로부터 유래\n",
        "  - 자동교호감지에서 암시하듯 CHAID는 변수 간의 통계적 관계를 알아내기 위하여 사용된 것이었음\n",
        "  - **범주형 변수(명목, 서열)에만 국한되어 사용됨, 연속형 변수는 (상중하)등으로 나눠서 넣어야 함**\n",
        "  - **다지 분리를 수행**\n",
        "  - 과다적합을 하고나서 가지치기를 하지 않고, 과다적합이 일어나기 전에 나무를 키워나가는 것을 중지함\n",
        "  - 카이제곱 검정을 이용\n",
        "\n",
        " ## QUEST(Quick, Unbiased, Efficient, Statistical Tree)\n",
        "  - CART와 같이 **이지분리**를 수행하는 알고리즘\n",
        "  - **명목형 목표 변수에 대해서만 분석을 수행가능**\n",
        "  - **예측변수가 순서형 or 연속형인 경우 ANOVA F-검정, Levene의 검정**\n",
        "  - **예측변수가 명목형인 경우 Pearson의 카이제곱 검정**\n",
        "  \n",
        "\n",
        "\n",
        " ## 요약\n",
        "  - CHAID\n",
        "    - 입력 : 명목형, 순서형, 연속형(사전 그룹화 필요)\n",
        "    - 예측 : 명목형, 순서형, 연속형(사전 그룹화 필요) / 다지분리\n",
        "  - CART\n",
        "    - 입력 : 명목형(지니지수), 순서형, 연속형(분산의감소량)\n",
        "    - 예측 : 명목형, 순서형, 연속형 / 이진분리\n",
        "  - QUEST\n",
        "    - 입력 : 명목형\n",
        "    - 예측 : 명목형, 순서형, 연속형(분산 / "
      ]
    },
    {
      "cell_type": "markdown",
      "metadata": {
        "id": "TuhIDHY7R7zo"
      },
      "source": [
        "\n"
      ]
    },
    {
      "cell_type": "code",
      "metadata": {
        "id": "Dk9jFwbNR50f"
      },
      "source": [
        ""
      ],
      "execution_count": null,
      "outputs": []
    }
  ]
}