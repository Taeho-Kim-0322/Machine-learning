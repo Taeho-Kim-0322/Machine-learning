{
  "nbformat": 4,
  "nbformat_minor": 0,
  "metadata": {
    "colab": {
      "name": "빅분기 - Ch4_빅데이터 결과해석.ipynb",
      "provenance": [],
      "collapsed_sections": [],
      "authorship_tag": "ABX9TyMdpGtzrkkaRYU2Xbic/EoT",
      "include_colab_link": true
    },
    "kernelspec": {
      "name": "python3",
      "display_name": "Python 3"
    }
  },
  "cells": [
    {
      "cell_type": "markdown",
      "metadata": {
        "id": "view-in-github",
        "colab_type": "text"
      },
      "source": [
        "<a href=\"https://colab.research.google.com/github/Taeho-Kim-0322/Machine-learning/blob/master/%EB%B9%85%EB%B6%84%EA%B8%B0_Ch4_%EB%B9%85%EB%8D%B0%EC%9D%B4%ED%84%B0_%EA%B2%B0%EA%B3%BC%ED%95%B4%EC%84%9D.ipynb\" target=\"_parent\"><img src=\"https://colab.research.google.com/assets/colab-badge.svg\" alt=\"Open In Colab\"/></a>"
      ]
    },
    {
      "cell_type": "markdown",
      "metadata": {
        "id": "E9P2aqfAyKRz"
      },
      "source": [
        "# 1. 분석 모형 평가 및 개선\n",
        "\n",
        "## 1-1. 분석 모형 평가\n",
        "\n",
        "### 1-1-1. 평가 지표\n",
        " - 데이터 분석 모델\n",
        "   - 기술 통계, 추론 통계\n",
        "   - 상관분석 : 두 개 이상의 변수 간에 존재하는 상호연관성의 정보를 측정하여 분석하는 방법\n",
        "     - 두 변수 : 단순상관분석, 셋 이상 : 다중상관분석\n",
        "     - 수치적 데이터 변수의 상관분석 : 피어슨 상관분석(선형 관련성) / 공분산이 클수록 상관관계가 높다\n",
        "     - 명목적 데이터 변수의 상관분석 : 카이제곱 검정(교차분석)\n",
        "     - 순서형 데이터 변수의 상관분석 : 스피어만 순위 상관계수\n",
        "  - 회귀분석\n",
        "  - 분산분석 : 두 개 이상의 집단간 비교를 수행하고자 할 때 집단 내 분산, 총 평균과 각 집단의 평균 차이에 생긴 집단 간 분산 비교로 얻은 분포를 이용하여 가설검정을 수행하는 방법\n",
        "    - 일원분산분석 : 독립변수 1개, 종속변수 1개인 경우로 독립변수에 의한 집단 사이의 종속 변수 평균 차이를 비교\n",
        "    - 이원분산분석 : 독립변수 2개, 종속변수 1개인 경우로 집단 간 종속변수의 평균 차이를 분석하는 방법\n",
        "    - 다변량 분석은 종속변수가 2개 이상인 경우로 집단 간 종속변수의 평균 차이를 비교\n",
        "  - 주성분분석(PCA) : 주성분 변수를 원래 변수의 선형결합으로써 추출하는 통계 기법\n",
        "  - 판별분석(Discriminant Analysis) : 집단에 대한 정보로부터 집단을 구별할 수 있는 판별규칙 혹은 판별함수를 만들고, 다변량 기법으로 조사된 집단에 대한 정보를 활용하여 새로운 개체가 어떤 집단인지를 탐색하는 통계 기법\n",
        "\n",
        " - 데이터 마이닝\n",
        "  - 분류\n",
        "  - 예측 : 회귀분석, 의사결정트리, 인공신경망, 시계열 분석\n",
        "    - 시계열 분석\n",
        "      - 분해법 : 시계열을 추세, 순환, 계절 및 불규칙 변동으로 분해하여 각 변동을 추정하여 해석함\n",
        "      - 평활법 : 과거와 현재 값의 (가중)평균으로 미래 값을 예측하는 방법으로, 이동평균법(MA), 지수평활법(AR) 등이 있음\n",
        "    \n",
        "  - 군집화\n",
        "  - 연관규칙\n",
        " - 머신러닝 알고리즘\n",
        "  - 지도학습 vs 비지도학습\n",
        "\n",
        "\n"
      ]
    },
    {
      "cell_type": "markdown",
      "metadata": {
        "id": "lpnm68b8yKYO"
      },
      "source": [
        "\n",
        "### 1-1-2. 분석 모형 진단\n",
        " - 데이터 모형 진단\n",
        "  - 품질 기준 선정\n",
        "  - 품질 이슈 조사\n",
        "  - 데이터 관리 문서 수집\n",
        "  - 진단 대상 중요도 평가\n",
        "  - 진단 대상 선정\n",
        "  - 핵심 데이터 항목 정의\n",
        "  - 데이터 프로파일링\n",
        "  - 업무규칙 정의\n",
        " - 데이터 분석 모형 오류\n",
        "  - 일반화 오류 : 오버피팅\n",
        "  - 훈련 오류 : 언더피팅\n",
        " - 홀드아웃 교차검증 & K-fold 교차검증\n",
        "\n",
        "### 1-1-3. 교차검증\n",
        " - 교차검증 기법\n",
        "  - K-교차검증\n",
        "  - 홀드아웃 교차검증\n",
        " - 교차분석\n",
        "  - 검증하고자 하는 변수가 모두 범주형 자료(명목척도, 서열척도)일 때, 두 변수 간의 연관성이 있는지 분석\n",
        "  - 적합도 검정 : 관찰된 비율 값이 기댓값과 같은지 조사하는 검정\n",
        "  - 독립성 검정 : 두 변수 간의 관련이 있는지\n",
        "  - 동질성 검정 : 두 집단의 분포가 동일한지 검정\n",
        " - 분류 모형 성능 평가\n",
        "  - 특이도, 민감도(리콜), 정확도(precision), Accuracy, ...\n",
        " - 상관관계 검증\n",
        "  - 상관분석은 두 개 이상의 변수 간에 존재하는 상호 연관성의 정도(하나의 변수가 다른 변수와 어떤 밀접성을 가지고 변화하는가)를 측정하여 분석하며, 이를 추정하는 수치로는 공분산과 상관계수가 있음\n"
      ]
    },
    {
      "cell_type": "markdown",
      "metadata": {
        "id": "CG1_djREyKaZ"
      },
      "source": [
        "### 1-1-4. 모수 유의성 검정\n",
        " - "
      ]
    },
    {
      "cell_type": "markdown",
      "metadata": {
        "id": "Hxaa_FsxyKcq"
      },
      "source": [
        ""
      ]
    },
    {
      "cell_type": "markdown",
      "metadata": {
        "id": "e7xU0lk0yKeu"
      },
      "source": [
        ""
      ]
    },
    {
      "cell_type": "markdown",
      "metadata": {
        "id": "5qlvE4nPyKg0"
      },
      "source": [
        ""
      ]
    },
    {
      "cell_type": "markdown",
      "metadata": {
        "id": "pklYWZSxyKi5"
      },
      "source": [
        ""
      ]
    },
    {
      "cell_type": "markdown",
      "metadata": {
        "id": "D7ImOKNWyKlA"
      },
      "source": [
        ""
      ]
    },
    {
      "cell_type": "markdown",
      "metadata": {
        "id": "cxYrvUjSyKnD"
      },
      "source": [
        ""
      ]
    },
    {
      "cell_type": "markdown",
      "metadata": {
        "id": "Z0ICKElSyKpS"
      },
      "source": [
        ""
      ]
    },
    {
      "cell_type": "markdown",
      "metadata": {
        "id": "pYV7tqw0yKs0"
      },
      "source": [
        ""
      ]
    }
  ]
}