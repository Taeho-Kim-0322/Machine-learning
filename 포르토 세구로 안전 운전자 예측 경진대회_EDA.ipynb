{
  "nbformat": 4,
  "nbformat_minor": 0,
  "metadata": {
    "colab": {
      "name": "model",
      "provenance": [],
      "authorship_tag": "ABX9TyMDQy7E4ZFVcPoKQRsnLTTZ",
      "include_colab_link": true
    },
    "kernelspec": {
      "name": "python3",
      "display_name": "Python 3"
    }
  },
  "cells": [
    {
      "cell_type": "markdown",
      "metadata": {
        "id": "view-in-github",
        "colab_type": "text"
      },
      "source": [
        "<a href=\"https://colab.research.google.com/github/Taeho-Kim-0322/Machine-learning/blob/master/%ED%8F%AC%EB%A5%B4%ED%86%A0%20%EC%84%B8%EA%B5%AC%EB%A1%9C%20%EC%95%88%EC%A0%84%20%EC%9A%B4%EC%A0%84%EC%9E%90%20%EC%98%88%EC%B8%A1%20%EA%B2%BD%EC%A7%84%EB%8C%80%ED%9A%8C_EDA.ipynb\" target=\"_parent\"><img src=\"https://colab.research.google.com/assets/colab-badge.svg\" alt=\"Open In Colab\"/></a>"
      ]
    },
    {
      "cell_type": "code",
      "metadata": {
        "colab": {
          "base_uri": "https://localhost:8080/"
        },
        "id": "AKa8JbAnpllj",
        "outputId": "f8baf394-f4d3-4d8b-c252-e334d77945b7"
      },
      "source": [
        "from google.colab import drive\n",
        "drive.mount('/content/drive')"
      ],
      "execution_count": 3,
      "outputs": [
        {
          "output_type": "stream",
          "text": [
            "Mounted at /content/drive\n"
          ],
          "name": "stdout"
        }
      ]
    },
    {
      "cell_type": "code",
      "metadata": {
        "id": "yuYIBnqyetPY"
      },
      "source": [
        "import pandas as pd\n",
        "\n",
        "# 훈련/테스트 데이터를 읽어온다\n",
        "train = pd.read_csv('/content/drive/MyDrive/train.csv')\n",
        "train_label = train['target']\n",
        "train_id = train['id']\n",
        "del train['target'], train['id']\n",
        "\n",
        "test =  pd.read_csv('/content/drive/MyDrive/test.csv')\n",
        "test_id = test['id']\n",
        "del test['id']"
      ],
      "execution_count": 5,
      "outputs": []
    },
    {
      "cell_type": "code",
      "metadata": {
        "id": "NvbTzQlIpb2a"
      },
      "source": [
        "# 파생 변수 01 : 결측값을 의미하는 “-1”의 개수를 센다\n",
        "train['missing'] = (train==-1).sum(axis=1).astype(float)\n",
        "test['missing'] = (test==-1).sum(axis=1).astype(float)\n",
        "\n",
        "# 파생 변수 02 : 이진 변수의 합\n",
        "bin_features = [c for c in train.columns if 'bin' in c]\n",
        "train['bin_sum'] = train[bin_features].sum(axis=1)\n",
        "test['bin_sum'] = test[bin_features].sum(axis=1)\n",
        "\n",
        "# 파생 변수 03 : 단일변수 타겟 비율 분석으로 선정한 변수를 기반으로 Target Encoding을 수행한다. Target Encoding은 교차 검증 과정에서 진행한다.\n",
        "features = ['ps_ind_06_bin', 'ps_ind_07_bin', 'ps_ind_08_bin', 'ps_ind_09_bin', 'ps_ind_12_bin', 'ps_ind_16_bin', 'ps_ind_17_bin', 'ps_ind_18_bin', 'ps_ind_04_cat', 'ps_ind_05_cat', 'ps_car_01_cat', 'ps_car_02_cat', 'ps_car_03_cat', 'ps_car_04_cat', 'ps_car_06_cat', 'ps_car_07_cat', 'ps_car_08_cat', 'ps_car_09_cat', 'ps_car_11_cat', 'ps_ind_01', 'ps_ind_03', 'ps_ind_15', 'ps_car_11']\n"
      ],
      "execution_count": 15,
      "outputs": []
    },
    {
      "cell_type": "code",
      "metadata": {
        "id": "BAL-RXSVr78-"
      },
      "source": [
        "# LightGBM 모델의 설정값이다.\n",
        "num_boost_round = 10000\n",
        "params = {\"objective\": \"binary\",\n",
        "          \"boosting_type\": \"gbdt\",\n",
        "          \"learning_rate\": 0.1,\n",
        "          \"num_leaves\": 15,\n",
        "          \"max_bin\": 256,\n",
        "          \"feature_fraction\": 0.6,\n",
        "          \"verbosity\": 0,\n",
        "          \"drop_rate\": 0.1,\n",
        "          \"is_unbalance\": False,\n",
        "          \"max_drop\": 50,\n",
        "          \"min_child_samples\": 10,\n",
        "          \"min_child_weight\": 150,\n",
        "          \"min_split_gain\": 0,\n",
        "          \"subsample\": 0.9,\n",
        "          \"seed\": 2018\n",
        "}"
      ],
      "execution_count": 16,
      "outputs": []
    },
    {
      "cell_type": "code",
      "metadata": {
        "colab": {
          "base_uri": "https://localhost:8080/"
        },
        "id": "_axFXvCctAFI",
        "outputId": "56f12cb3-db9f-44ab-d61b-5979db2e4374"
      },
      "source": [
        "from sklearn.model_selection import StratifiedKFold\n",
        "import numpy as np\n",
        "\n",
        "# Stratified 5-Fold 내부 교차 검증을 준비한다\n",
        "NFOLDS = 5\n",
        "kfold = StratifiedKFold(n_splits=NFOLDS, shuffle=True, random_state=218)\n",
        "kf = kfold.split(train, train_label)\n",
        "\n",
        "cv_train = np.zeros(len(train_label))\n",
        "cv_pred = np.zeros(len(test_id))    \n",
        "best_trees = []\n",
        "fold_scores = []\n",
        "\n",
        "for i, (train_fold, validate) in enumerate(kf):\n",
        "    # 훈련/검증 데이터를 분리한다\n",
        "    X_train, X_validate, label_train, label_validate = train.iloc[train_fold, :], train.iloc[validate, :], train_label[train_fold], train_label[validate]\n",
        "    \n",
        "    # target encoding 피쳐 엔지니어링을 수행한다\n",
        "    for feature in features:\n",
        "        # 훈련 데이터에서 feature 고유값별 타겟 변수의 평균을 구한다\n",
        "        map_dic = pd.DataFrame([X_train[feature], label_train]).T.groupby(feature).agg('mean')\n",
        "        map_dic = map_dic.to_dict()['target']\n",
        "        # 훈련/검증/테스트 데이터에 평균값을 매핑한다\n",
        "        X_train[feature + '_target_enc'] = X_train[feature].apply(lambda x: map_dic.get(x, 0))\n",
        "        X_validate[feature + '_target_enc'] = X_validate[feature].apply(lambda x: map_dic.get(x, 0))\n",
        "        test[feature + '_target_enc'] = test[feature].apply(lambda x: map_dic.get(x, 0))\n",
        "\n",
        "    dtrain = lgbm.Dataset(X_train, label_train)\n",
        "    dvalid = lgbm.Dataset(X_validate, label_validate, reference=dtrain)\n",
        "    # 훈련 데이터를 학습하고, evalerror() 함수를 통해 검증 데이터에 대한 정규화 Gini 계수 점수를 기준으로 최적의 트리 개수를 찾는다.\n",
        "    bst = lgbm.train(params, dtrain, num_boost_round, valid_sets=dvalid, feval=evalerror, verbose_eval=100, early_stopping_rounds=100)\n",
        "    best_trees.append(bst.best_iteration)\n",
        "    # 테스트 데이터에 대한 예측값을 cv_pred에 더한다.\n",
        "    cv_pred += bst.predict(test, num_iteration=bst.best_iteration)\n",
        "    cv_train[validate] += bst.predict(X_validate)\n",
        "\n",
        "    # 검증 데이터에 대한 평가 점수를 출력한다.\n",
        "    score = Gini(label_validate, cv_train[validate])\n",
        "    print(score)\n",
        "    fold_scores.append(score)\n",
        "\n",
        "cv_pred /= NFOLDS\n",
        "\n",
        "# 시드값별로 교차 검증 점수를 출력한다.\n",
        "print(\"cv score:\")\n",
        "print(Gini(train_label, cv_train))\n",
        "print(fold_scores)\n",
        "print(best_trees, np.mean(best_trees))\n",
        "\n",
        "# 테스트 데이터에 대한 결과물을 저장한다.\n",
        "# pd.DataFrame({'id': test_id, 'target': cv_pred}).to_csv('../model/lgbm_baseline.csv', index=False)"
      ],
      "execution_count": null,
      "outputs": [
        {
          "output_type": "stream",
          "text": [
            "/usr/local/lib/python3.6/dist-packages/ipykernel_launcher.py:24: SettingWithCopyWarning: \n",
            "A value is trying to be set on a copy of a slice from a DataFrame.\n",
            "Try using .loc[row_indexer,col_indexer] = value instead\n",
            "\n",
            "See the caveats in the documentation: https://pandas.pydata.org/pandas-docs/stable/user_guide/indexing.html#returning-a-view-versus-a-copy\n",
            "/usr/local/lib/python3.6/dist-packages/ipykernel_launcher.py:25: SettingWithCopyWarning: \n",
            "A value is trying to be set on a copy of a slice from a DataFrame.\n",
            "Try using .loc[row_indexer,col_indexer] = value instead\n",
            "\n",
            "See the caveats in the documentation: https://pandas.pydata.org/pandas-docs/stable/user_guide/indexing.html#returning-a-view-versus-a-copy\n"
          ],
          "name": "stderr"
        }
      ]
    },
    {
      "cell_type": "code",
      "metadata": {
        "id": "MtYMCGoztDbc"
      },
      "source": [
        ""
      ],
      "execution_count": null,
      "outputs": []
    }
  ]
}