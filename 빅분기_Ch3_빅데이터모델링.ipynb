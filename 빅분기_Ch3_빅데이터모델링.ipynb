{
  "nbformat": 4,
  "nbformat_minor": 0,
  "metadata": {
    "colab": {
      "name": "빅분기 - Ch3_빅데이터모델링.ipynb",
      "provenance": [],
      "collapsed_sections": [],
      "authorship_tag": "ABX9TyNggFJd9ckEVlDER3wGlBo8",
      "include_colab_link": true
    },
    "kernelspec": {
      "name": "python3",
      "display_name": "Python 3"
    }
  },
  "cells": [
    {
      "cell_type": "markdown",
      "metadata": {
        "id": "view-in-github",
        "colab_type": "text"
      },
      "source": [
        "<a href=\"https://colab.research.google.com/github/Taeho-Kim-0322/Machine-learning/blob/master/%EB%B9%85%EB%B6%84%EA%B8%B0_Ch3_%EB%B9%85%EB%8D%B0%EC%9D%B4%ED%84%B0%EB%AA%A8%EB%8D%B8%EB%A7%81.ipynb\" target=\"_parent\"><img src=\"https://colab.research.google.com/assets/colab-badge.svg\" alt=\"Open In Colab\"/></a>"
      ]
    },
    {
      "cell_type": "markdown",
      "metadata": {
        "id": "uDvtvCfOCOxa"
      },
      "source": [
        "# Ch1. 분석절차 수립"
      ]
    },
    {
      "cell_type": "markdown",
      "metadata": {
        "id": "2IYOkkieCOvU"
      },
      "source": [
        ""
      ]
    },
    {
      "cell_type": "markdown",
      "metadata": {
        "id": "82_Uwe5iCOtS"
      },
      "source": [
        "# Ch2. 분석 기법 적용\n",
        "\n",
        "## 1. 분석 기법"
      ]
    },
    {
      "cell_type": "markdown",
      "metadata": {
        "id": "-uFA2HBdCOrh"
      },
      "source": [
        "### ① 회귀분석\n",
        " - 변수 간의 원인과 결과 같의 인과관계를 설명하는 모델\n",
        " - 독립변수 : 연속형, 종속변수 : 연속형 ▶ 종속변수와 독립변수의 관계를 함수 식으로 나타냄\n",
        " - 계수 추정법 : 최소자승법(OLS), 최우도법, 베이지안법, 적률법 등\n",
        " - 가정\n",
        "  - E(에러) = 0\n",
        "  - 등분산성 : 모든 에러는 동일 분산\n",
        "  - iid(독립 & 정규분포) : 모든 에러는 서로 독립이고, 각각 정규분포를 이룸\n",
        "  - ex. 주사위 던질 때, 각각의 시도는 서로 독립이고 각각 1/6의 확률 분포를 이룬다\n",
        "\n",
        "### ② 로지스틱 회귀분석\n",
        " - \n",
        "\n",
        "\n",
        "### ③ 의사결정 나무\n",
        "\n",
        "\n",
        "### ④ 인공신경망\n",
        " - "
      ]
    },
    {
      "cell_type": "markdown",
      "metadata": {
        "id": "fzfECDAVCOpe"
      },
      "source": [
        ""
      ]
    },
    {
      "cell_type": "markdown",
      "metadata": {
        "id": "Xg4C6MkrCOno"
      },
      "source": [
        ""
      ]
    },
    {
      "cell_type": "markdown",
      "metadata": {
        "id": "GKB9ZYsXCOjm"
      },
      "source": [
        ""
      ]
    },
    {
      "cell_type": "markdown",
      "metadata": {
        "id": "lDEJQ92dCOhk"
      },
      "source": [
        ""
      ]
    },
    {
      "cell_type": "code",
      "metadata": {
        "id": "4GMqGPgWBwaz"
      },
      "source": [
        ""
      ],
      "execution_count": null,
      "outputs": []
    }
  ]
}